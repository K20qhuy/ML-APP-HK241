{
  "nbformat": 4,
  "nbformat_minor": 0,
  "metadata": {
    "colab": {
      "provenance": [],
      "include_colab_link": true
    },
    "kernelspec": {
      "name": "python3",
      "display_name": "Python 3"
    }
  },
  "cells": [
    {
      "cell_type": "markdown",
      "metadata": {
        "id": "view-in-github",
        "colab_type": "text"
      },
      "source": [
        "<a href=\"https://colab.research.google.com/github/K20qhuy/ML-APP-HK241/blob/main/Code_raw___BTL_ML%26APP_Wine_Quality_Prediction_RandomForest.ipynb\" target=\"_parent\"><img src=\"https://colab.research.google.com/assets/colab-badge.svg\" alt=\"Open In Colab\"/></a>"
      ]
    },
    {
      "cell_type": "markdown",
      "metadata": {
        "id": "uBHsHWmumNKn"
      },
      "source": [
        "Code only"
      ]
    },
    {
      "cell_type": "code",
      "metadata": {
        "id": "6mXdf5RGkzlk"
      },
      "source": [
        "import numpy as np\n",
        "import pandas as pd\n",
        "import matplotlib.pyplot as plt\n",
        "import seaborn as sns\n",
        "from sklearn.model_selection import train_test_split\n",
        "from sklearn.ensemble import RandomForestClassifier\n",
        "from sklearn.metrics import accuracy_score\n",
        "\n",
        "# loading the dataset to a Pandas DataFrame\n",
        "wine_dataset = pd.read_csv('/content/winequality-red.csv')\n",
        "'''\n",
        "# checking for missing values\n",
        "wine_dataset.isnull().sum()\n",
        "'''\n",
        "# separate the data and Label\n",
        "X = wine_dataset.drop('quality',axis=1)\n",
        "\n",
        "# label (output of each sample) binarization\n",
        "Y = wine_dataset['quality'].apply(lambda y_value: 1 if y_value>=7 else 0) #optional: change the Quality threshold to 6 instead\n",
        "\n",
        "# Split the data into training and testing sets (80% amount for training, 20% for evaluation)\n",
        "X_train, X_test, Y_train, Y_test = train_test_split(X, Y, test_size=0.2, random_state=3)\n",
        "print(Y.shape, Y_train.shape, Y_test.shape)\n",
        "\n",
        "#Random Forest and training\n",
        "model = RandomForestClassifier()\n",
        "model.fit(X_train, Y_train)\n",
        "\n",
        "# accuracy of the model (Simlified evaluation)\n",
        "X_test_prediction = model.predict(X_test)\n",
        "test_data_accuracy = accuracy_score(X_test_prediction, Y_test)\n",
        "print('Accuracy Score: ', test_data_accuracy)\n",
        "\n",
        "# New input for testing the model prediction efficiency\n",
        "input_data = (7.9,0.35,0.46,3.6,0.078,15.0,37.0,0.9973,3.35,0.86,12.8)\n",
        "\n",
        "input_data_as_numpy_array = np.asarray(input_data)\n",
        "input_data_reshaped = input_data_as_numpy_array.reshape(1,-1)\n",
        "\n",
        "y_pred = model.predict(input_data_reshaped)\n",
        "print(y_pred)\n",
        "\n",
        "if (y_pred[0]==1):\n",
        "  print('Chất lượng rượu tốt')\n",
        "else:\n",
        "  print('Chất lượng rượu chưa đạt - Loại bỏ sản phẩm này')\n",
        "\n",
        "\n",
        "# Mô phỏng chiến lượng Marketing cho hãng rượu\n",
        "'''\n",
        "good_count = 0  # Counter for good quality predictions\n",
        "predictions_count = 0  # Total number of predictions\n",
        "promotion_threshold = 50  # After 50 predictions, start the marketing strategy\n",
        "\n",
        "# Tạo ngẫu nhiên 50 mẫu input cần mô hình dự đoán\n",
        "def generate_random_samples(n_samples=50, num_features=11):\n",
        "    return np.random.rand(n_samples, num_features)  # Random values between 0 and 1 for each feature\n",
        "\n",
        "random_inputs = generate_random_samples(50)\n",
        "\n",
        "# Chuyển đổi định dạng của 50 mẫu dữ liệu sao cho khớp với dạng dữ liệu training (DataFrame với các cột features)\n",
        "random_inputs_df = pd.DataFrame(random_inputs, columns=X_train.columns)\n",
        "\n",
        "# Dự đoán và đưa ra chiến lược Marketing của hãng\n",
        "for i in range(len(random_inputs)):\n",
        "\n",
        "    # Reshape each random input for a single prediction\n",
        "    # random_input = random_inputs[i].reshape(1, -1)  # Reshape to match the model's expected input shape (1, 11)\n",
        "\n",
        "    #Instead of using a NumPy array, the code uses .iloc[i:i+1] to pass a single row (as a DataFrame) to the model for prediction.\n",
        "    random_input = random_inputs_df.iloc[i:i+1]  # Get one random input sample\n",
        "\n",
        "    # Make prediction for the single random input\n",
        "    prediction = model.predict(random_input)[0]  # Get the prediction for this sample (0 or 1)\n",
        "    predictions_count += 1\n",
        "\n",
        "    if prediction == 1:\n",
        "        good_count += 1\n",
        "\n",
        "    # Marketing strategy after every `promotion_threshold` predictions\n",
        "    if predictions_count % promotion_threshold == 0:\n",
        "        if good_count / promotion_threshold >= 0.7:  # If 70% or more predictions are good\n",
        "            print(f\"Chiến lược marketing: Tăng 20% giá . Tổng số rượu đạt chất lượng dự đoán được: {good_count}\")\n",
        "        else:\n",
        "            print(f\"Chiến lược marketing: Giảm 30% giá đối với các loại rượu . Tổng số rượu đạt chất lượng dự đoán được: {good_count}\")\n",
        "\n",
        "        # Reset for next strategy\n",
        "        good_count = 0\n",
        "\n",
        "'''"
      ],
      "execution_count": null,
      "outputs": []
    }
  ]
}