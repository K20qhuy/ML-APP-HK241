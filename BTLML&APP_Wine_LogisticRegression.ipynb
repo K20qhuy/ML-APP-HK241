{
  "nbformat": 4,
  "nbformat_minor": 0,
  "metadata": {
    "colab": {
      "provenance": [],
      "authorship_tag": "ABX9TyOQP7wJBvWmzE5P62WMX3A/",
      "include_colab_link": true
    },
    "kernelspec": {
      "name": "python3",
      "display_name": "Python 3"
    },
    "language_info": {
      "name": "python"
    }
  },
  "cells": [
    {
      "cell_type": "markdown",
      "metadata": {
        "id": "view-in-github",
        "colab_type": "text"
      },
      "source": [
        "<a href=\"https://colab.research.google.com/github/K20qhuy/ML-APP-HK241/blob/main/BTLML%26APP_Wine_LogisticRegression.ipynb\" target=\"_parent\"><img src=\"https://colab.research.google.com/assets/colab-badge.svg\" alt=\"Open In Colab\"/></a>"
      ]
    },
    {
      "cell_type": "code",
      "execution_count": 17,
      "metadata": {
        "id": "1_R6hdDV5HfP"
      },
      "outputs": [],
      "source": [
        "import numpy as np\n",
        "import pandas as pd\n",
        "import matplotlib.pyplot as plt\n",
        "import seaborn as sns\n"
      ]
    },
    {
      "cell_type": "markdown",
      "source": [
        "Preprocessing data"
      ],
      "metadata": {
        "id": "N0JkBLPI5fNB"
      }
    },
    {
      "cell_type": "code",
      "source": [
        "# loading the dataset to a Pandas DataFrame\n",
        "\n",
        "wine_dataset = pd.read_csv('/content/winequality-red.csv')"
      ],
      "metadata": {
        "id": "smq_aEVf-iLs"
      },
      "execution_count": 18,
      "outputs": []
    },
    {
      "cell_type": "code",
      "source": [
        "# Create binary classification: good (1) vs. bad (0)\n",
        "wine_dataset['quality'] = wine_dataset['quality'].apply(lambda x: 1 if x >= 6 else 0)\n",
        "\n",
        "# Split the dataset into features (X) and target (y)\n",
        "X = wine_dataset.drop('quality', axis=1).values\n",
        "y = wine_dataset['quality'].values\n",
        "\n",
        "# Feature scaling: Normalize the features (z-score standardization)\n",
        "from sklearn.preprocessing import StandardScaler\n",
        "scaler = StandardScaler()\n",
        "X_scaled = scaler.fit_transform(X)\n",
        "\n",
        "# Split the data into training and testing sets (80% training, 20% testing)\n",
        "from sklearn.model_selection import train_test_split\n",
        "X_train, X_test, y_train, y_test = train_test_split(X_scaled, y, test_size=0.2, random_state=42)\n"
      ],
      "metadata": {
        "id": "9uTjzkxx5eGf"
      },
      "execution_count": 19,
      "outputs": []
    },
    {
      "cell_type": "markdown",
      "source": [
        "Logistic Regression"
      ],
      "metadata": {
        "id": "yQXjIsJu54gK"
      }
    },
    {
      "cell_type": "code",
      "source": [
        "def sigmoid(z):\n",
        "    return 1 / (1 + np.exp(-z))"
      ],
      "metadata": {
        "id": "AUksobDH54uc"
      },
      "execution_count": 20,
      "outputs": []
    },
    {
      "cell_type": "markdown",
      "source": [
        "Cost function"
      ],
      "metadata": {
        "id": "pHEdegaO55KE"
      }
    },
    {
      "cell_type": "code",
      "source": [
        "def cost_function(X, y, weights, bias):\n",
        "    m = len(X)  # number of training examples\n",
        "    # Predictions using the sigmoid function\n",
        "    predictions = sigmoid(np.dot(X, weights) + bias)\n",
        "    # Cost function: Binary Cross-Entropy / Log-Loss\n",
        "    cost = (-1/m) * np.sum(y * np.log(predictions) + (1 - y) * np.log(1 - predictions))\n",
        "    return cost\n"
      ],
      "metadata": {
        "id": "VhhhtuGU55d8"
      },
      "execution_count": 43,
      "outputs": []
    },
    {
      "cell_type": "markdown",
      "source": [
        "Gradient descent: minimize the cost function and update the weights & bias."
      ],
      "metadata": {
        "id": "Pgncy6eg56Bx"
      }
    },
    {
      "cell_type": "code",
      "source": [
        "def gradient_descent(X, y, weights, bias, learning_rate, num_iterations):\n",
        "    m = len(X) # function m = X.shape[0] is more recommended/universal than len(X)\n",
        "    costs = []\n",
        "\n",
        "    for i in range(num_iterations):\n",
        "        # Forward pass (compute predictions)\n",
        "        predictions = sigmoid(np.dot(X, weights) + bias)\n",
        "\n",
        "        # Compute the gradients (partial derivatives)\n",
        "        dw = (1/m) * np.dot(X.T, (predictions - y))\n",
        "        db = (1/m) * np.sum(predictions - y)\n",
        "\n",
        "        # Update the parameters (weights and bias)\n",
        "        weights -= learning_rate * dw\n",
        "        bias -= learning_rate * db\n",
        "\n",
        "        # Compute the cost and save it for plotting\n",
        "        cost = cost_function(X, y, weights, bias)\n",
        "        costs.append(cost)\n",
        "\n",
        "        # Print the cost every 100 iterations to track progress\n",
        "        if i % 100 == 0:\n",
        "            print(f\"Iteration {i}, Cost: {cost:.4f}\")\n",
        "\n",
        "    return weights, bias, costs\n"
      ],
      "metadata": {
        "id": "yXi6sgnT56RB"
      },
      "execution_count": 47,
      "outputs": []
    },
    {
      "cell_type": "markdown",
      "source": [
        "Train the Logistic regression model\n",
        "\n",
        "\n"
      ],
      "metadata": {
        "id": "QT9RhKQX7dVD"
      }
    },
    {
      "cell_type": "code",
      "source": [
        "# Initialize weights and bias\n",
        "weights = np.zeros(X_train.shape[1])  # Number of features in X_train\n",
        "bias = 0\n",
        "\n",
        "# Set hyperparameters\n",
        "learning_rate = 0.01\n",
        "num_iterations = 1000\n",
        "\n",
        "# Train the model using gradient descent\n",
        "weights, bias, costs = gradient_descent(X_train, y_train, weights, bias, learning_rate, num_iterations)\n"
      ],
      "metadata": {
        "colab": {
          "base_uri": "https://localhost:8080/"
        },
        "id": "9R-DVLkL7dk-",
        "outputId": "29d60374-23ad-4289-bfe9-57efd8eabc65"
      },
      "execution_count": 48,
      "outputs": [
        {
          "output_type": "stream",
          "name": "stdout",
          "text": [
            "Iteration 0, Cost: 0.6920\n",
            "Iteration 100, Cost: 0.6135\n",
            "Iteration 200, Cost: 0.5772\n",
            "Iteration 300, Cost: 0.5582\n",
            "Iteration 400, Cost: 0.5470\n",
            "Iteration 500, Cost: 0.5400\n",
            "Iteration 600, Cost: 0.5353\n",
            "Iteration 700, Cost: 0.5320\n",
            "Iteration 800, Cost: 0.5295\n",
            "Iteration 900, Cost: 0.5276\n"
          ]
        }
      ]
    },
    {
      "cell_type": "markdown",
      "source": [
        "Evaluate the Wine model\n",
        "+ Precision: Of all the wines predicted as \"good\", how many were actually good.\n",
        "+ Recall: Of all the wines that were actually good, how many were predicted correctly.\n",
        "+ F1-Score: The harmonic mean of precision and recall, giving a single metric that balances the two."
      ],
      "metadata": {
        "id": "W4UNz8R08nhU"
      }
    },
    {
      "cell_type": "code",
      "source": [
        "def predict(X, weights, bias):\n",
        "    # Compute the model's predictions (probabilities)\n",
        "    predictions = sigmoid(np.dot(X, weights) + bias)\n",
        "    # Convert probabilities to binary predictions (0 or 1)\n",
        "    return (predictions >= 0.5).astype(int)\n",
        "\n",
        "# Predict on the test data\n",
        "y_pred = predict(X_test, weights, bias)\n",
        "\n",
        "# Confusion Matrix\n",
        "from sklearn.metrics import confusion_matrix, accuracy_score, classification_report\n",
        "\n",
        "# Evaluate the model\n",
        "accuracy = accuracy_score(y_test, y_pred)\n",
        "print(f\"Accuracy: {accuracy:.4f}\")\n",
        "\n",
        "# Confusion Matrix\n",
        "cm = confusion_matrix(y_test, y_pred)\n",
        "print(\"Confusion Matrix:\")\n",
        "print(cm)\n",
        "\n",
        "# Classification Report\n",
        "report = classification_report(y_test, y_pred)\n",
        "print(\"Classification Report:\")\n",
        "print(report)\n"
      ],
      "metadata": {
        "colab": {
          "base_uri": "https://localhost:8080/"
        },
        "id": "jkSnnziw8nsz",
        "outputId": "fae370fd-f196-4390-fe69-8b5430e55998"
      },
      "execution_count": 52,
      "outputs": [
        {
          "output_type": "stream",
          "name": "stdout",
          "text": [
            "Accuracy: 0.7281\n",
            "Confusion Matrix:\n",
            "[[107  34]\n",
            " [ 53 126]]\n",
            "Classification Report:\n",
            "              precision    recall  f1-score   support\n",
            "\n",
            "           0       0.67      0.76      0.71       141\n",
            "           1       0.79      0.70      0.74       179\n",
            "\n",
            "    accuracy                           0.73       320\n",
            "   macro avg       0.73      0.73      0.73       320\n",
            "weighted avg       0.74      0.73      0.73       320\n",
            "\n"
          ]
        }
      ]
    },
    {
      "cell_type": "markdown",
      "source": [
        "Visualize how the cost function decreases over iterations during training"
      ],
      "metadata": {
        "id": "zg1fqysh854F"
      }
    },
    {
      "cell_type": "code",
      "source": [
        "# Plot the cost function over iterations\n",
        "plt.plot(range(num_iterations), costs)\n",
        "plt.xlabel('Iterations')\n",
        "plt.ylabel('Cost')\n",
        "plt.title('Cost Function over Iterations')\n",
        "plt.show()\n"
      ],
      "metadata": {
        "colab": {
          "base_uri": "https://localhost:8080/",
          "height": 472
        },
        "id": "0n1jQl6S85Mp",
        "outputId": "03e04c49-c219-4453-e3d8-e2d791d87196"
      },
      "execution_count": 53,
      "outputs": [
        {
          "output_type": "display_data",
          "data": {
            "text/plain": [
              "<Figure size 640x480 with 1 Axes>"
            ],
            "image/png": "[encoded data removed]"
          },
          "metadata": {}
        }
      ]
    },
    {
      "cell_type": "markdown",
      "source": [
        "Build a Predictive model"
      ],
      "metadata": {
        "id": "rYeNKLQ_G5fZ"
      }
    },
    {
      "cell_type": "code",
      "source": [
        "new_input = np.array([11.0,0.2,0.48,2.0,0.34299999999999997,6.0,18.0,0.9979,3.3,0.71,10.5])  # 11 (wine chemical) features\n",
        "prediction = predict(new_input.reshape(1, -1), weights, bias)  # Make prediction\n",
        "\n",
        "print(\"\\n Thông số sản phẩm rượu cần kiểm tra:\\n\", new_input)\n",
        "if (prediction[0]==1):\n",
        "  print('Chất lượng rượu tốt')\n",
        "else:\n",
        "  print('Chất lượng rượu không tốt - Loại bỏ sản phẩm này')"
      ],
      "metadata": {
        "colab": {
          "base_uri": "https://localhost:8080/"
        },
        "id": "Yx6kmzE7G2Qi",
        "outputId": "f67054ab-9f86-48df-f601-b4946fe5ec3c"
      },
      "execution_count": 56,
      "outputs": [
        {
          "output_type": "stream",
          "name": "stdout",
          "text": [
            "\n",
            " Thông số sản phẩm rượu cần kiểm tra:\n",
            " [11.      0.2     0.48    2.      0.343   6.     18.      0.9979  3.3\n",
            "  0.71   10.5   ]\n",
            "Chất lượng rượu tốt\n"
          ]
        }
      ]
    }
  ]
}