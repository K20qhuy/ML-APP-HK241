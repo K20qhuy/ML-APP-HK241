{
  "nbformat": 4,
  "nbformat_minor": 0,
  "metadata": {
    "colab": {
      "provenance": [],
      "authorship_tag": "ABX9TyOOsVOpglvCEHgWRrRlWga8"
    },
    "kernelspec": {
      "name": "python3",
      "display_name": "Python 3"
    },
    "language_info": {
      "name": "python"
    }
  },
  "cells": [
    {
      "cell_type": "markdown",
      "source": [
        "Implement gate"
      ],
      "metadata": {
        "id": "u_OjZiBFPP-y"
      }
    },
    {
      "cell_type": "code",
      "execution_count": 2,
      "metadata": {
        "id": "P8t6fIgvPBcU"
      },
      "outputs": [],
      "source": [
        "import numpy as np\n",
        "\n",
        "class AddGate:\n",
        "  def __init__(self):\n",
        "    self.x = None\n",
        "    self.y = None\n",
        "\n",
        "  def forward(self, x, y):\n",
        "    self.x = x\n",
        "    self.y = y\n",
        "    return x + y\n",
        "\n",
        "  def backward(self, d_out):\n",
        "    return d_out, d_out\n",
        "\n",
        "class MultiplyGate:\n",
        "  def __init__(self):\n",
        "    self.x = None\n",
        "    self.y = None\n",
        "  def forward(self, x, y):\n",
        "    self.x = x\n",
        "    self.y = y\n",
        "    return x * y\n",
        "  def backward(self, d_out):\n",
        "    dx = d_out * self.y\n",
        "    dy = d_out * self.x\n",
        "    return dx, dy\n",
        "\n",
        "class PowerGate:\n",
        "  def __init__(self,power):\n",
        "    self.x = None\n",
        "    self.power = power\n",
        "  def forward(self, x):\n",
        "    self.x = x\n",
        "    return x ** self.power\n",
        "\n",
        "  def backward(self, d_out):\n",
        "    return d_out * self.power * (self.x ** (self.power - 1))"
      ]
    },
    {
      "cell_type": "markdown",
      "source": [
        "BACK PROPAGATE AGORITHM"
      ],
      "metadata": {
        "id": "23gO9EQoTbRb"
      }
    },
    {
      "cell_type": "code",
      "source": [
        "#initial values\n",
        "w = 2.0\n",
        "b = 8.0\n",
        "x = -2.0\n",
        "y = 2.0\n",
        "# Forward propagation\n",
        "multiply_gate1 = MultiplyGate()\n",
        "multiply_gate2 = MultiplyGate()\n",
        "add_gate1 = AddGate() # For w * x + b\n",
        "add_gate2 = AddGate() # (a - y)\n",
        "power_gate = PowerGate(2)\n",
        "\n",
        "# Node 1: Compute c = w * x\n",
        "c = multiply_gate1.forward(w, x)\n",
        "# Node 2: Compute a = c + b\n",
        "a = add_gate1.forward(c, b)\n",
        "# Node 3: Compute d = a - y\n",
        "d = add_gate2.forward(a, -y)\n",
        "# Node 4: Compute e = d^2\n",
        "e = power_gate.forward(d)\n",
        "# Node 5: Compute J = 0.5 * e\n",
        "J = multiply_gate2.forward(0.5, e)\n",
        "print(f\"Loss: {J}\")\n",
        "# Node 5\n",
        "_, A = multiply_gate2.backward(1)\n",
        "print(\"A = \", A)\n",
        "# Node 4\n",
        "B = power_gate.backward(A)\n",
        "print(\"B = \", B)\n",
        "# Node 3\n",
        "C, _ = add_gate1.backward(B)\n",
        "print(\"C = \", C)\n",
        "# Node 2\n",
        "D, E = add_gate1.backward(B)\n",
        "print(\"D = \", D)\n",
        "print(\"E = \", E)\n",
        "# Node 1\n",
        "F, _ = multiply_gate1.backward(D)\n",
        "print(\"F = \", F)\n",
        "\n"
      ],
      "metadata": {
        "colab": {
          "base_uri": "https://localhost:8080/"
        },
        "id": "96KDL48fTapS",
        "outputId": "8d627c7b-6e6f-48ce-9483-6013f29aad9b"
      },
      "execution_count": 5,
      "outputs": [
        {
          "output_type": "stream",
          "name": "stdout",
          "text": [
            "Loss: 2.0\n",
            "A =  0.5\n",
            "B =  2.0\n",
            "C =  2.0\n",
            "D =  2.0\n",
            "E =  2.0\n",
            "F =  -4.0\n"
          ]
        }
      ]
    },
    {
      "cell_type": "markdown",
      "source": [
        "Sigmoid gate (chưa rõ yêu cầu là thực hiện hàm gì)"
      ],
      "metadata": {
        "id": "h0QRDvPrTaBW"
      }
    },
    {
      "cell_type": "code",
      "source": [
        "import numpy as np\n",
        "class SigmoidGate:\n",
        "  def __init__(self):\n",
        "    self.output = None\n",
        "  def forward(self, z):\n",
        "    self.output = 1 / (1 + np.exp(-z))\n",
        "    return self.output\n",
        "  def backward(self, d_out):\n",
        "    sigmoid_derivative = self.output * (1 - self.output)\n",
        "    return d_out * sigmoid_derivative"
      ],
      "metadata": {
        "id": "gGDzHRY06M5f"
      },
      "execution_count": 6,
      "outputs": []
    },
    {
      "cell_type": "markdown",
      "source": [],
      "metadata": {
        "id": "Forjz4ieUKlr"
      }
    }
  ]
}